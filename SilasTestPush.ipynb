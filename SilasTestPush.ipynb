{
 "cells": [
  {
   "cell_type": "code",
   "execution_count": null,
   "id": "7333cec2-56be-4fa8-bd6e-c06511796917",
   "metadata": {},
   "outputs": [],
   "source": [
    "test"
   ]
  },
  {
   "cell_type": "code",
   "execution_count": null,
   "id": "8a8c11a6-25db-4521-ae61-ca4c4bc65bf4",
   "metadata": {},
   "outputs": [],
   "source": []
  },
  {
   "cell_type": "code",
   "execution_count": null,
   "id": "ae8de7bc-273f-4117-8388-d5b44b6f383e",
   "metadata": {},
   "outputs": [],
   "source": []
  },
  {
   "cell_type": "code",
   "execution_count": null,
   "id": "6d66b367-db0e-4739-bc7c-f040b6b5549c",
   "metadata": {},
   "outputs": [],
   "source": [
    "#this is a test to see if I can push to the shared Github repo"
   ]
  },
  {
   "cell_type": "code",
   "execution_count": null,
   "id": "a9bbf5ea-2120-4a42-9759-3cba63b1e975",
   "metadata": {},
   "outputs": [],
   "source": []
  },
  {
   "cell_type": "code",
   "execution_count": null,
   "id": "5abe609a-f4ca-40f8-a427-b19e32cca72b",
   "metadata": {},
   "outputs": [],
   "source": []
  }
 ],
 "metadata": {
  "kernelspec": {
   "display_name": "R",
   "language": "R",
   "name": "ir"
  },
  "language_info": {
   "codemirror_mode": "r",
   "file_extension": ".r",
   "mimetype": "text/x-r-source",
   "name": "R",
   "pygments_lexer": "r",
   "version": "4.4.1"
  }
 },
 "nbformat": 4,
 "nbformat_minor": 5
}
