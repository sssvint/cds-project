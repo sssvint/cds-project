{
 "cells": [
  {
   "cell_type": "markdown",
   "id": "661c43f6-71ce-43ba-b974-f16e2c45c320",
   "metadata": {},
   "source": [
    "## Coding project about English language proficiency in relation to GDP per capita"
   ]
  },
  {
   "cell_type": "markdown",
   "id": "fd5f97ab-f8fc-4509-a4f3-0471b3f8e8d9",
   "metadata": {},
   "source": [
    "Christian: This here is my analysis of the two countries Denmark and Argentina, and their individual relationships between english language proficiency and GDP per capita.\n",
    "For this analysis I will use GDP data from Ourworld, as well as language proficiency data from the organisation EF.\n",
    "I've attempted to look complete most of my code from previous classwork or looking it up on sites such as Stackoverflow.com, \n",
    "although AI has been used in assisting me whenever I've gotten stuck."
   ]
  },
  {
   "cell_type": "code",
   "execution_count": 1,
   "id": "6acc78ef-5b52-4e14-9a95-600ee758e6ed",
   "metadata": {
    "vscode": {
     "languageId": "r"
    }
   },
   "outputs": [
    {
     "name": "stderr",
     "output_type": "stream",
     "text": [
      "Installing package into ‘/usr/local/spark-3.5.2-bin-hadoop3/R/lib’\n",
      "(as ‘lib’ is unspecified)\n",
      "\n",
      "Installing package into ‘/usr/local/spark-3.5.2-bin-hadoop3/R/lib’\n",
      "(as ‘lib’ is unspecified)\n",
      "\n",
      "Installing package into ‘/usr/local/spark-3.5.2-bin-hadoop3/R/lib’\n",
      "(as ‘lib’ is unspecified)\n",
      "\n",
      "Installing package into ‘/usr/local/spark-3.5.2-bin-hadoop3/R/lib’\n",
      "(as ‘lib’ is unspecified)\n",
      "\n"
     ]
    }
   ],
   "source": [
    "install.packages('dplyr') # for functions\n",
    "install.packages('ggplot2') # for plotting\n",
    "install.packages('dslabs') # for data\n",
    "install.packages('gridExtra') # for plotting\n",
    "# install.packages('jsonlite') # for Ourworld"
   ]
  },
  {
   "cell_type": "code",
   "execution_count": 2,
   "id": "16e588fd-547b-4e60-b4e5-a9d77f00b4e5",
   "metadata": {
    "vscode": {
     "languageId": "r"
    }
   },
   "outputs": [
    {
     "name": "stderr",
     "output_type": "stream",
     "text": [
      "\n",
      "Attaching package: ‘dplyr’\n",
      "\n",
      "\n",
      "The following objects are masked from ‘package:stats’:\n",
      "\n",
      "    filter, lag\n",
      "\n",
      "\n",
      "The following objects are masked from ‘package:base’:\n",
      "\n",
      "    intersect, setdiff, setequal, union\n",
      "\n",
      "\n"
     ]
    }
   ],
   "source": [
    "# activating installed packages for analysis \n",
    "library(dplyr)\n",
    "library(ggplot2)\n",
    "# library(dslabs)\n",
    "# library(gridExtra)\n",
    "# library(jsonlite)"
   ]
  },
  {
   "cell_type": "code",
   "execution_count": 3,
   "id": "768561aa-f711-49ff-a999-f3890756605e",
   "metadata": {
    "vscode": {
     "languageId": "r"
    }
   },
   "outputs": [],
   "source": [
    "# Fetch the GDP data\n",
    "df <- read.csv(\"https://ourworldindata.org/grapher/gdp-per-capita-worldbank.csv?v=1&csvType=full&useColumnShortNames=true\")\n",
    "\n",
    "# read in CEFR data\n",
    "\n",
    "dk_cefr <- read.delim('Data/Denmark_CEFR.csv', sep = \";\")\n",
    "arg_cefr <- read.delim(\"Data/Argentina_CEFR.csv\", sep = \";\")\n",
    "\n",
    "# Filter GDP data to relevant countries\n",
    "dk_gdp <- df %>% \n",
    "    filter(Entity==\"Denmark\")\n",
    "arg_gdp <- df %>%\n",
    "    filter(Entity==\"Argentina\")"
   ]
  },
  {
   "cell_type": "code",
   "execution_count": 4,
   "id": "bc4c4b99-8ef7-4621-be48-358aee7b91c6",
   "metadata": {
    "vscode": {
     "languageId": "r"
    }
   },
   "outputs": [],
   "source": [
    "arg_data <- merge(arg_gdp, arg_cefr, all = TRUE)\n",
    "dk_data <- merge(dk_gdp, dk_cefr, all = TRUE)\n",
    "country_analysis <- merge(arg_data, dk_data, all = TRUE)"
   ]
  },
  {
   "cell_type": "markdown",
   "id": "c54d5256-b703-4ccf-9df6-ab4dee483f9c",
   "metadata": {},
   "source": [
    "According to these two t-tests, there is seemingly a correlation between GDP and English proficiency, according to the CEFR scale. Let's visualize the relationship by having the graphs side by side."
   ]
  },
  {
   "cell_type": "code",
   "execution_count": 5,
   "id": "cb77b9c3-9035-461a-97de-8b882d1e5390",
   "metadata": {
    "vscode": {
     "languageId": "r"
    }
   },
   "outputs": [
    {
     "data": {
      "text/html": [
       "<table class=\"dataframe\">\n",
       "<caption>A data.frame: 24 × 5</caption>\n",
       "<thead>\n",
       "\t<tr><th></th><th scope=col>Year</th><th scope=col>Entity</th><th scope=col>Code</th><th scope=col>ny_gdp_pcap_pp_kd</th><th scope=col>CEFR</th></tr>\n",
       "\t<tr><th></th><th scope=col>&lt;int&gt;</th><th scope=col>&lt;chr&gt;</th><th scope=col>&lt;chr&gt;</th><th scope=col>&lt;dbl&gt;</th><th scope=col>&lt;int&gt;</th></tr>\n",
       "</thead>\n",
       "<tbody>\n",
       "\t<tr><th scope=row>43</th><td>2011</td><td>Argentina</td><td>ARG</td><td>24647.63</td><td>508</td></tr>\n",
       "\t<tr><th scope=row>44</th><td>2011</td><td>Denmark  </td><td>DNK</td><td>51293.21</td><td>611</td></tr>\n",
       "\t<tr><th scope=row>45</th><td>2012</td><td>Argentina</td><td>ARG</td><td>24118.87</td><td>518</td></tr>\n",
       "\t<tr><th scope=row>46</th><td>2012</td><td>Denmark  </td><td>DNK</td><td>51216.31</td><td>626</td></tr>\n",
       "\t<tr><th scope=row>47</th><td>2013</td><td>Argentina</td><td>ARG</td><td>24424.14</td><td>524</td></tr>\n",
       "\t<tr><th scope=row>48</th><td>2013</td><td>Denmark  </td><td>DNK</td><td>51479.27</td><td>621</td></tr>\n",
       "\t<tr><th scope=row>49</th><td>2014</td><td>Argentina</td><td>ARG</td><td>23550.10</td><td>563</td></tr>\n",
       "\t<tr><th scope=row>50</th><td>2014</td><td>Denmark  </td><td>DNK</td><td>52048.34</td><td>641</td></tr>\n",
       "\t<tr><th scope=row>51</th><td>2015</td><td>Argentina</td><td>ARG</td><td>23933.89</td><td>568</td></tr>\n",
       "\t<tr><th scope=row>52</th><td>2015</td><td>Denmark  </td><td>DNK</td><td>52892.64</td><td>642</td></tr>\n",
       "\t<tr><th scope=row>53</th><td>2016</td><td>Argentina</td><td>ARG</td><td>23189.53</td><td>555</td></tr>\n",
       "\t<tr><th scope=row>54</th><td>2016</td><td>Denmark  </td><td>DNK</td><td>54185.01</td><td>645</td></tr>\n",
       "\t<tr><th scope=row>55</th><td>2017</td><td>Argentina</td><td>ARG</td><td>23597.12</td><td>541</td></tr>\n",
       "\t<tr><th scope=row>56</th><td>2017</td><td>Denmark  </td><td>DNK</td><td>55356.68</td><td>642</td></tr>\n",
       "\t<tr><th scope=row>57</th><td>2018</td><td>Argentina</td><td>ARG</td><td>22747.24</td><td>550</td></tr>\n",
       "\t<tr><th scope=row>58</th><td>2018</td><td>Denmark  </td><td>DNK</td><td>56178.77</td><td>633</td></tr>\n",
       "\t<tr><th scope=row>59</th><td>2019</td><td>Argentina</td><td>ARG</td><td>22071.75</td><td>555</td></tr>\n",
       "\t<tr><th scope=row>60</th><td>2019</td><td>Denmark  </td><td>DNK</td><td>56813.96</td><td>633</td></tr>\n",
       "\t<tr><th scope=row>61</th><td>2020</td><td>Argentina</td><td>ARG</td><td>19694.56</td><td>566</td></tr>\n",
       "\t<tr><th scope=row>62</th><td>2020</td><td>Denmark  </td><td>DNK</td><td>55275.06</td><td>632</td></tr>\n",
       "\t<tr><th scope=row>63</th><td>2021</td><td>Argentina</td><td>ARG</td><td>21599.80</td><td>556</td></tr>\n",
       "\t<tr><th scope=row>64</th><td>2021</td><td>Denmark  </td><td>DNK</td><td>58802.96</td><td>636</td></tr>\n",
       "\t<tr><th scope=row>65</th><td>2022</td><td>Argentina</td><td>ARG</td><td>22461.44</td><td>562</td></tr>\n",
       "\t<tr><th scope=row>66</th><td>2022</td><td>Denmark  </td><td>DNK</td><td>59935.12</td><td>625</td></tr>\n",
       "</tbody>\n",
       "</table>\n"
      ],
      "text/latex": [
       "A data.frame: 24 × 5\n",
       "\\begin{tabular}{r|lllll}\n",
       "  & Year & Entity & Code & ny\\_gdp\\_pcap\\_pp\\_kd & CEFR\\\\\n",
       "  & <int> & <chr> & <chr> & <dbl> & <int>\\\\\n",
       "\\hline\n",
       "\t43 & 2011 & Argentina & ARG & 24647.63 & 508\\\\\n",
       "\t44 & 2011 & Denmark   & DNK & 51293.21 & 611\\\\\n",
       "\t45 & 2012 & Argentina & ARG & 24118.87 & 518\\\\\n",
       "\t46 & 2012 & Denmark   & DNK & 51216.31 & 626\\\\\n",
       "\t47 & 2013 & Argentina & ARG & 24424.14 & 524\\\\\n",
       "\t48 & 2013 & Denmark   & DNK & 51479.27 & 621\\\\\n",
       "\t49 & 2014 & Argentina & ARG & 23550.10 & 563\\\\\n",
       "\t50 & 2014 & Denmark   & DNK & 52048.34 & 641\\\\\n",
       "\t51 & 2015 & Argentina & ARG & 23933.89 & 568\\\\\n",
       "\t52 & 2015 & Denmark   & DNK & 52892.64 & 642\\\\\n",
       "\t53 & 2016 & Argentina & ARG & 23189.53 & 555\\\\\n",
       "\t54 & 2016 & Denmark   & DNK & 54185.01 & 645\\\\\n",
       "\t55 & 2017 & Argentina & ARG & 23597.12 & 541\\\\\n",
       "\t56 & 2017 & Denmark   & DNK & 55356.68 & 642\\\\\n",
       "\t57 & 2018 & Argentina & ARG & 22747.24 & 550\\\\\n",
       "\t58 & 2018 & Denmark   & DNK & 56178.77 & 633\\\\\n",
       "\t59 & 2019 & Argentina & ARG & 22071.75 & 555\\\\\n",
       "\t60 & 2019 & Denmark   & DNK & 56813.96 & 633\\\\\n",
       "\t61 & 2020 & Argentina & ARG & 19694.56 & 566\\\\\n",
       "\t62 & 2020 & Denmark   & DNK & 55275.06 & 632\\\\\n",
       "\t63 & 2021 & Argentina & ARG & 21599.80 & 556\\\\\n",
       "\t64 & 2021 & Denmark   & DNK & 58802.96 & 636\\\\\n",
       "\t65 & 2022 & Argentina & ARG & 22461.44 & 562\\\\\n",
       "\t66 & 2022 & Denmark   & DNK & 59935.12 & 625\\\\\n",
       "\\end{tabular}\n"
      ],
      "text/markdown": [
       "\n",
       "A data.frame: 24 × 5\n",
       "\n",
       "| <!--/--> | Year &lt;int&gt; | Entity &lt;chr&gt; | Code &lt;chr&gt; | ny_gdp_pcap_pp_kd &lt;dbl&gt; | CEFR &lt;int&gt; |\n",
       "|---|---|---|---|---|---|\n",
       "| 43 | 2011 | Argentina | ARG | 24647.63 | 508 |\n",
       "| 44 | 2011 | Denmark   | DNK | 51293.21 | 611 |\n",
       "| 45 | 2012 | Argentina | ARG | 24118.87 | 518 |\n",
       "| 46 | 2012 | Denmark   | DNK | 51216.31 | 626 |\n",
       "| 47 | 2013 | Argentina | ARG | 24424.14 | 524 |\n",
       "| 48 | 2013 | Denmark   | DNK | 51479.27 | 621 |\n",
       "| 49 | 2014 | Argentina | ARG | 23550.10 | 563 |\n",
       "| 50 | 2014 | Denmark   | DNK | 52048.34 | 641 |\n",
       "| 51 | 2015 | Argentina | ARG | 23933.89 | 568 |\n",
       "| 52 | 2015 | Denmark   | DNK | 52892.64 | 642 |\n",
       "| 53 | 2016 | Argentina | ARG | 23189.53 | 555 |\n",
       "| 54 | 2016 | Denmark   | DNK | 54185.01 | 645 |\n",
       "| 55 | 2017 | Argentina | ARG | 23597.12 | 541 |\n",
       "| 56 | 2017 | Denmark   | DNK | 55356.68 | 642 |\n",
       "| 57 | 2018 | Argentina | ARG | 22747.24 | 550 |\n",
       "| 58 | 2018 | Denmark   | DNK | 56178.77 | 633 |\n",
       "| 59 | 2019 | Argentina | ARG | 22071.75 | 555 |\n",
       "| 60 | 2019 | Denmark   | DNK | 56813.96 | 633 |\n",
       "| 61 | 2020 | Argentina | ARG | 19694.56 | 566 |\n",
       "| 62 | 2020 | Denmark   | DNK | 55275.06 | 632 |\n",
       "| 63 | 2021 | Argentina | ARG | 21599.80 | 556 |\n",
       "| 64 | 2021 | Denmark   | DNK | 58802.96 | 636 |\n",
       "| 65 | 2022 | Argentina | ARG | 22461.44 | 562 |\n",
       "| 66 | 2022 | Denmark   | DNK | 59935.12 | 625 |\n",
       "\n"
      ],
      "text/plain": [
       "   Year Entity    Code ny_gdp_pcap_pp_kd CEFR\n",
       "43 2011 Argentina ARG  24647.63          508 \n",
       "44 2011 Denmark   DNK  51293.21          611 \n",
       "45 2012 Argentina ARG  24118.87          518 \n",
       "46 2012 Denmark   DNK  51216.31          626 \n",
       "47 2013 Argentina ARG  24424.14          524 \n",
       "48 2013 Denmark   DNK  51479.27          621 \n",
       "49 2014 Argentina ARG  23550.10          563 \n",
       "50 2014 Denmark   DNK  52048.34          641 \n",
       "51 2015 Argentina ARG  23933.89          568 \n",
       "52 2015 Denmark   DNK  52892.64          642 \n",
       "53 2016 Argentina ARG  23189.53          555 \n",
       "54 2016 Denmark   DNK  54185.01          645 \n",
       "55 2017 Argentina ARG  23597.12          541 \n",
       "56 2017 Denmark   DNK  55356.68          642 \n",
       "57 2018 Argentina ARG  22747.24          550 \n",
       "58 2018 Denmark   DNK  56178.77          633 \n",
       "59 2019 Argentina ARG  22071.75          555 \n",
       "60 2019 Denmark   DNK  56813.96          633 \n",
       "61 2020 Argentina ARG  19694.56          566 \n",
       "62 2020 Denmark   DNK  55275.06          632 \n",
       "63 2021 Argentina ARG  21599.80          556 \n",
       "64 2021 Denmark   DNK  58802.96          636 \n",
       "65 2022 Argentina ARG  22461.44          562 \n",
       "66 2022 Denmark   DNK  59935.12          625 "
      ]
     },
     "metadata": {},
     "output_type": "display_data"
    }
   ],
   "source": [
    "country_nona = country_analysis %>%\n",
    "    na.exclude(country_analysis)\n",
    "country_nona"
   ]
  },
  {
   "cell_type": "code",
   "execution_count": 11,
   "id": "18851d62-0946-4a29-9473-dbc949c93cee",
   "metadata": {
    "vscode": {
     "languageId": "r"
    }
   },
   "outputs": [
    {
     "data": {
      "image/png": "[encoded data removed]",
      "text/plain": [
       "plot without title"
      ]
     },
     "metadata": {
      "image/png": {
       "height": 420,
       "width": 420
      }
     },
     "output_type": "display_data"
    }
   ],
   "source": [
    "# Plotting CEFR-levels, with lower line of points being Argentina and higher line of points being Denmark\n",
    "ggplot(country_nona,\n",
    "      aes(x = Year,\n",
    "         y = CEFR)) +\n",
    "    geom_point() +\n",
    "    facet_wrap( ~Entity) +\n",
    "    labs(title = \"Countries' CEFR scores as a function of time\",\n",
    "         x = \"Year\",\n",
    "         y = \"CEFR\")\n",
    "    # theme_minimal()"
   ]
  },
  {
   "cell_type": "code",
   "execution_count": 12,
   "id": "fc7d33b8-58e0-43bc-a85e-29acb2ed3371",
   "metadata": {
    "vscode": {
     "languageId": "r"
    }
   },
   "outputs": [
    {
     "data": {
      "image/png": "[encoded data removed]",
      "text/plain": [
       "plot without title"
      ]
     },
     "metadata": {
      "image/png": {
       "height": 420,
       "width": 420
      }
     },
     "output_type": "display_data"
    }
   ],
   "source": [
    "# Plotting GDP per capita in USD of Argentina and Denmark side by side\n",
    "ggplot(country_nona,\n",
    "      aes(x = Year,\n",
    "         y = ny_gdp_pcap_pp_kd)) +\n",
    "    geom_point() +\n",
    "    facet_wrap( ~Entity) +\n",
    "    labs(title = \"Countries' GDP per capita as a function of time\",\n",
    "         x = \"Year\",\n",
    "         y = \"GDP per capita\")"
   ]
  },
  {
   "cell_type": "code",
   "execution_count": 25,
   "id": "14d4557d-8b01-4e85-b645-194cacf6f9c9",
   "metadata": {
    "vscode": {
     "languageId": "r"
    }
   },
   "outputs": [
    {
     "data": {
      "text/plain": [
       "\n",
       "\tWelch Two Sample t-test\n",
       "\n",
       "data:  arg_data$ny_gdp_pcap_pp_kd and arg_data$CEFR\n",
       "t = 36.925, df = 32.006, p-value < 2.2e-16\n",
       "alternative hypothesis: true difference in means is not equal to 0\n",
       "95 percent confidence interval:\n",
       " 18563.38 20731.02\n",
       "sample estimates:\n",
       " mean of x  mean of y \n",
       "20196.3422   549.1429 \n"
      ]
     },
     "metadata": {},
     "output_type": "display_data"
    },
    {
     "data": {
      "text/plain": [
       "\n",
       "\tWelch Two Sample t-test\n",
       "\n",
       "data:  dk_data$ny_gdp_pcap_pp_kd and dk_data$CEFR\n",
       "t = 50.134, df = 32.001, p-value < 2.2e-16\n",
       "alternative hypothesis: true difference in means is not equal to 0\n",
       "95 percent confidence interval:\n",
       " 47102.54 51092.20\n",
       "sample estimates:\n",
       " mean of x  mean of y \n",
       "49726.3026   628.9286 \n"
      ]
     },
     "metadata": {},
     "output_type": "display_data"
    }
   ],
   "source": [
    "# Making t-tests for both Argentina and Denmark\n",
    "t.test(arg_data$ny_gdp_pcap_pp_kd,arg_data$CEFR)\n",
    "\n",
    "t.test(dk_data$ny_gdp_pcap_pp_kd,dk_data$CEFR)"
   ]
  },
  {
   "cell_type": "markdown",
   "id": "299350f2-3231-45f9-ac14-97d90b461f6e",
   "metadata": {},
   "source": [
    "Denmark's and Argentina's t-tests have different conclusions. In Denmark's case there is no correlation between GD per capita and CEFR scores. \n",
    "In Argentina's case, however, there is a neative correlation, meaning that the higher the GDP per, the lower Argentinians score on the CEFR scale, which is very curious."
   ]
  }
 ],
 "metadata": {
  "kernelspec": {
   "display_name": "R",
   "language": "R",
   "name": "ir"
  },
  "language_info": {
   "codemirror_mode": "r",
   "file_extension": ".r",
   "mimetype": "text/x-r-source",
   "name": "R",
   "pygments_lexer": "r",
   "version": "4.4.1"
  }
 },
 "nbformat": 4,
 "nbformat_minor": 5
}
