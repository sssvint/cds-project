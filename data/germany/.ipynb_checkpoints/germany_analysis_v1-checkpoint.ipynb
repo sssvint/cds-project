{
 "cells": [
  {
   "cell_type": "code",
   "execution_count": null,
   "id": "7abb3008-6349-4f2a-9b60-b0e1f71954b1",
   "metadata": {},
   "outputs": [],
   "source": [
    "# This is my first attempt at handling the data for Germany"
   ]
  },
  {
   "cell_type": "code",
   "execution_count": null,
   "id": "3b2d231a-bb23-485f-b221-35e6ceef9dcd",
   "metadata": {},
   "outputs": [],
   "source": [
    "# To start out, I have gathered GDP per capita data from 1990-2022 and CEFR English proficiency data from 2011-2024"
   ]
  },
  {
   "cell_type": "code",
   "execution_count": null,
   "id": "730fef32-7337-4c10-86a8-429c4516ebbd",
   "metadata": {},
   "outputs": [],
   "source": []
  },
  {
   "cell_type": "code",
   "execution_count": null,
   "id": "cc0267a4-0f3a-45da-824b-f6dc7c9c3f22",
   "metadata": {},
   "outputs": [],
   "source": []
  },
  {
   "cell_type": "code",
   "execution_count": null,
   "id": "c0d13631-7f58-493a-8c01-f34cce2d2984",
   "metadata": {},
   "outputs": [],
   "source": []
  },
  {
   "cell_type": "code",
   "execution_count": null,
   "id": "140b8d20-75a5-44a7-a5f7-da8be56fbac0",
   "metadata": {},
   "outputs": [],
   "source": []
  },
  {
   "cell_type": "code",
   "execution_count": null,
   "id": "0c7f21c0-a387-4212-b205-cea7771c14d7",
   "metadata": {},
   "outputs": [],
   "source": []
  },
  {
   "cell_type": "code",
   "execution_count": null,
   "id": "e175c624-f5cc-4387-aea6-e19bc6c76d02",
   "metadata": {},
   "outputs": [],
   "source": []
  }
 ],
 "metadata": {
  "kernelspec": {
   "display_name": "R",
   "language": "R",
   "name": "ir"
  },
  "language_info": {
   "codemirror_mode": "r",
   "file_extension": ".r",
   "mimetype": "text/x-r-source",
   "name": "R",
   "pygments_lexer": "r",
   "version": "4.4.1"
  }
 },
 "nbformat": 4,
 "nbformat_minor": 5
}
