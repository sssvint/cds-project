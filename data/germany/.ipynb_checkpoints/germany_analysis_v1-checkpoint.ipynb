{
 "cells": [
  {
   "cell_type": "code",
   "execution_count": null,
   "id": "7abb3008-6349-4f2a-9b60-b0e1f71954b1",
   "metadata": {},
   "outputs": [],
   "source": [
    "# This is my (Silas) first attempt at handling the data for Germany"
   ]
  },
  {
   "cell_type": "code",
   "execution_count": null,
   "id": "3b2d231a-bb23-485f-b221-35e6ceef9dcd",
   "metadata": {},
   "outputs": [],
   "source": [
    "# To start out, I have gathered GDP per capita data from 1990-2022 and CEFR English proficiency data from 2011-2024"
   ]
  },
  {
   "cell_type": "code",
   "execution_count": null,
   "id": "730fef32-7337-4c10-86a8-429c4516ebbd",
   "metadata": {},
   "outputs": [],
   "source": [
    "# Installing some packages that we will likely, but not necessarily, need"
   ]
  },
  {
   "cell_type": "code",
   "execution_count": 11,
   "id": "cc0267a4-0f3a-45da-824b-f6dc7c9c3f22",
   "metadata": {},
   "outputs": [
    {
     "name": "stderr",
     "output_type": "stream",
     "text": [
      "Installing package into ‘/usr/local/spark-3.5.3-bin-hadoop3/R/lib’\n",
      "(as ‘lib’ is unspecified)\n",
      "\n",
      "Installing package into ‘/usr/local/spark-3.5.3-bin-hadoop3/R/lib’\n",
      "(as ‘lib’ is unspecified)\n",
      "\n",
      "Installing package into ‘/usr/local/spark-3.5.3-bin-hadoop3/R/lib’\n",
      "(as ‘lib’ is unspecified)\n",
      "\n",
      "also installing the dependencies ‘bit’, ‘rematch’, ‘bit64’, ‘backports’, ‘data.table’, ‘gargle’, ‘cellranger’, ‘ids’, ‘timechange’, ‘vroom’, ‘tzdb’, ‘progress’, ‘selectr’, ‘broom’, ‘conflicted’, ‘dtplyr’, ‘forcats’, ‘googledrive’, ‘googlesheets4’, ‘haven’, ‘hms’, ‘lubridate’, ‘modelr’, ‘readr’, ‘readxl’, ‘reprex’, ‘rvest’\n",
      "\n",
      "\n"
     ]
    }
   ],
   "source": [
    "install.packages('ggplot2')\n",
    "install.packages('dslabs')\n",
    "install.packages('tidyverse')"
   ]
  },
  {
   "cell_type": "code",
   "execution_count": null,
   "id": "c0d13631-7f58-493a-8c01-f34cce2d2984",
   "metadata": {},
   "outputs": [],
   "source": [
    "library(ggplot2)\n",
    "library(dslabs)\n",
    "library(tidyverse)"
   ]
  },
  {
   "cell_type": "code",
   "execution_count": null,
   "id": "bb2cee9a-70c4-4530-9e79-78b3ae484eca",
   "metadata": {},
   "outputs": [],
   "source": [
    "# Now let us take a look at the GDP per capita data, a csv which we can read from this same folder in our repository. \n",
    "# Data source: ourworldindata.org https://ourworldindata.org/grapher/gdp-per-capita-worldbank?tab=chart&country=~DEU "
   ]
  },
  {
   "cell_type": "code",
   "execution_count": 18,
   "id": "d7ac3736-21e2-40de-b5fb-ed401444d4e8",
   "metadata": {},
   "outputs": [
    {
     "data": {
      "text/html": [
       "<table class=\"dataframe\">\n",
       "<caption>A data.frame: 33 × 3</caption>\n",
       "<thead>\n",
       "\t<tr><th scope=col>Country</th><th scope=col>Year</th><th scope=col>GDPperCapita</th></tr>\n",
       "\t<tr><th scope=col>&lt;chr&gt;</th><th scope=col>&lt;int&gt;</th><th scope=col>&lt;dbl&gt;</th></tr>\n",
       "</thead>\n",
       "<tbody>\n",
       "\t<tr><td>Germany</td><td>1990</td><td>36699.48</td></tr>\n",
       "\t<tr><td>Germany</td><td>1991</td><td>38294.16</td></tr>\n",
       "\t<tr><td>Germany</td><td>1992</td><td>38734.94</td></tr>\n",
       "\t<tr><td>Germany</td><td>1993</td><td>38105.23</td></tr>\n",
       "\t<tr><td>Germany</td><td>1994</td><td>38881.57</td></tr>\n",
       "\t<tr><td>Germany</td><td>1995</td><td>39366.09</td></tr>\n",
       "\t<tr><td>Germany</td><td>1996</td><td>39568.60</td></tr>\n",
       "\t<tr><td>Germany</td><td>1997</td><td>40218.85</td></tr>\n",
       "\t<tr><td>Germany</td><td>1998</td><td>41022.61</td></tr>\n",
       "\t<tr><td>Germany</td><td>1999</td><td>41769.81</td></tr>\n",
       "\t<tr><td>Germany</td><td>2000</td><td>42928.18</td></tr>\n",
       "\t<tr><td>Germany</td><td>2001</td><td>43576.64</td></tr>\n",
       "\t<tr><td>Germany</td><td>2002</td><td>43417.31</td></tr>\n",
       "\t<tr><td>Germany</td><td>2003</td><td>43089.47</td></tr>\n",
       "\t<tr><td>Germany</td><td>2004</td><td>43605.28</td></tr>\n",
       "\t<tr><td>Germany</td><td>2005</td><td>43949.29</td></tr>\n",
       "\t<tr><td>Germany</td><td>2006</td><td>45678.08</td></tr>\n",
       "\t<tr><td>Germany</td><td>2007</td><td>47100.61</td></tr>\n",
       "\t<tr><td>Germany</td><td>2008</td><td>47643.22</td></tr>\n",
       "\t<tr><td>Germany</td><td>2009</td><td>45044.49</td></tr>\n",
       "\t<tr><td>Germany</td><td>2010</td><td>46999.24</td></tr>\n",
       "\t<tr><td>Germany</td><td>2011</td><td>49757.93</td></tr>\n",
       "\t<tr><td>Germany</td><td>2012</td><td>49872.45</td></tr>\n",
       "\t<tr><td>Germany</td><td>2013</td><td>49954.17</td></tr>\n",
       "\t<tr><td>Germany</td><td>2014</td><td>50845.53</td></tr>\n",
       "\t<tr><td>Germany</td><td>2015</td><td>51159.30</td></tr>\n",
       "\t<tr><td>Germany</td><td>2016</td><td>51879.67</td></tr>\n",
       "\t<tr><td>Germany</td><td>2017</td><td>53071.46</td></tr>\n",
       "\t<tr><td>Germany</td><td>2018</td><td>53431.39</td></tr>\n",
       "\t<tr><td>Germany</td><td>2019</td><td>53884.38</td></tr>\n",
       "\t<tr><td>Germany</td><td>2020</td><td>51780.03</td></tr>\n",
       "\t<tr><td>Germany</td><td>2021</td><td>53395.65</td></tr>\n",
       "\t<tr><td>Germany</td><td>2022</td><td>53969.62</td></tr>\n",
       "</tbody>\n",
       "</table>\n"
      ],
      "text/latex": [
       "A data.frame: 33 × 3\n",
       "\\begin{tabular}{lll}\n",
       " Country & Year & GDPperCapita\\\\\n",
       " <chr> & <int> & <dbl>\\\\\n",
       "\\hline\n",
       "\t Germany & 1990 & 36699.48\\\\\n",
       "\t Germany & 1991 & 38294.16\\\\\n",
       "\t Germany & 1992 & 38734.94\\\\\n",
       "\t Germany & 1993 & 38105.23\\\\\n",
       "\t Germany & 1994 & 38881.57\\\\\n",
       "\t Germany & 1995 & 39366.09\\\\\n",
       "\t Germany & 1996 & 39568.60\\\\\n",
       "\t Germany & 1997 & 40218.85\\\\\n",
       "\t Germany & 1998 & 41022.61\\\\\n",
       "\t Germany & 1999 & 41769.81\\\\\n",
       "\t Germany & 2000 & 42928.18\\\\\n",
       "\t Germany & 2001 & 43576.64\\\\\n",
       "\t Germany & 2002 & 43417.31\\\\\n",
       "\t Germany & 2003 & 43089.47\\\\\n",
       "\t Germany & 2004 & 43605.28\\\\\n",
       "\t Germany & 2005 & 43949.29\\\\\n",
       "\t Germany & 2006 & 45678.08\\\\\n",
       "\t Germany & 2007 & 47100.61\\\\\n",
       "\t Germany & 2008 & 47643.22\\\\\n",
       "\t Germany & 2009 & 45044.49\\\\\n",
       "\t Germany & 2010 & 46999.24\\\\\n",
       "\t Germany & 2011 & 49757.93\\\\\n",
       "\t Germany & 2012 & 49872.45\\\\\n",
       "\t Germany & 2013 & 49954.17\\\\\n",
       "\t Germany & 2014 & 50845.53\\\\\n",
       "\t Germany & 2015 & 51159.30\\\\\n",
       "\t Germany & 2016 & 51879.67\\\\\n",
       "\t Germany & 2017 & 53071.46\\\\\n",
       "\t Germany & 2018 & 53431.39\\\\\n",
       "\t Germany & 2019 & 53884.38\\\\\n",
       "\t Germany & 2020 & 51780.03\\\\\n",
       "\t Germany & 2021 & 53395.65\\\\\n",
       "\t Germany & 2022 & 53969.62\\\\\n",
       "\\end{tabular}\n"
      ],
      "text/markdown": [
       "\n",
       "A data.frame: 33 × 3\n",
       "\n",
       "| Country &lt;chr&gt; | Year &lt;int&gt; | GDPperCapita &lt;dbl&gt; |\n",
       "|---|---|---|\n",
       "| Germany | 1990 | 36699.48 |\n",
       "| Germany | 1991 | 38294.16 |\n",
       "| Germany | 1992 | 38734.94 |\n",
       "| Germany | 1993 | 38105.23 |\n",
       "| Germany | 1994 | 38881.57 |\n",
       "| Germany | 1995 | 39366.09 |\n",
       "| Germany | 1996 | 39568.60 |\n",
       "| Germany | 1997 | 40218.85 |\n",
       "| Germany | 1998 | 41022.61 |\n",
       "| Germany | 1999 | 41769.81 |\n",
       "| Germany | 2000 | 42928.18 |\n",
       "| Germany | 2001 | 43576.64 |\n",
       "| Germany | 2002 | 43417.31 |\n",
       "| Germany | 2003 | 43089.47 |\n",
       "| Germany | 2004 | 43605.28 |\n",
       "| Germany | 2005 | 43949.29 |\n",
       "| Germany | 2006 | 45678.08 |\n",
       "| Germany | 2007 | 47100.61 |\n",
       "| Germany | 2008 | 47643.22 |\n",
       "| Germany | 2009 | 45044.49 |\n",
       "| Germany | 2010 | 46999.24 |\n",
       "| Germany | 2011 | 49757.93 |\n",
       "| Germany | 2012 | 49872.45 |\n",
       "| Germany | 2013 | 49954.17 |\n",
       "| Germany | 2014 | 50845.53 |\n",
       "| Germany | 2015 | 51159.30 |\n",
       "| Germany | 2016 | 51879.67 |\n",
       "| Germany | 2017 | 53071.46 |\n",
       "| Germany | 2018 | 53431.39 |\n",
       "| Germany | 2019 | 53884.38 |\n",
       "| Germany | 2020 | 51780.03 |\n",
       "| Germany | 2021 | 53395.65 |\n",
       "| Germany | 2022 | 53969.62 |\n",
       "\n"
      ],
      "text/plain": [
       "   Country Year GDPperCapita\n",
       "1  Germany 1990 36699.48    \n",
       "2  Germany 1991 38294.16    \n",
       "3  Germany 1992 38734.94    \n",
       "4  Germany 1993 38105.23    \n",
       "5  Germany 1994 38881.57    \n",
       "6  Germany 1995 39366.09    \n",
       "7  Germany 1996 39568.60    \n",
       "8  Germany 1997 40218.85    \n",
       "9  Germany 1998 41022.61    \n",
       "10 Germany 1999 41769.81    \n",
       "11 Germany 2000 42928.18    \n",
       "12 Germany 2001 43576.64    \n",
       "13 Germany 2002 43417.31    \n",
       "14 Germany 2003 43089.47    \n",
       "15 Germany 2004 43605.28    \n",
       "16 Germany 2005 43949.29    \n",
       "17 Germany 2006 45678.08    \n",
       "18 Germany 2007 47100.61    \n",
       "19 Germany 2008 47643.22    \n",
       "20 Germany 2009 45044.49    \n",
       "21 Germany 2010 46999.24    \n",
       "22 Germany 2011 49757.93    \n",
       "23 Germany 2012 49872.45    \n",
       "24 Germany 2013 49954.17    \n",
       "25 Germany 2014 50845.53    \n",
       "26 Germany 2015 51159.30    \n",
       "27 Germany 2016 51879.67    \n",
       "28 Germany 2017 53071.46    \n",
       "29 Germany 2018 53431.39    \n",
       "30 Germany 2019 53884.38    \n",
       "31 Germany 2020 51780.03    \n",
       "32 Germany 2021 53395.65    \n",
       "33 Germany 2022 53969.62    "
      ]
     },
     "metadata": {},
     "output_type": "display_data"
    }
   ],
   "source": [
    "read.csv(\"GDP_per_capita_germany_1990-2022_ourworldindata.csv\")"
   ]
  },
  {
   "cell_type": "code",
   "execution_count": null,
   "id": "485eb934-b2e4-466b-b549-0ebd2865f3dc",
   "metadata": {},
   "outputs": [],
   "source": [
    "# And the english proficiency in Germany measured with the CEFR system. \n",
    "# Data source: ef.com, https://www.ef.com/wwen/epi/regions/europe/germany/"
   ]
  },
  {
   "cell_type": "code",
   "execution_count": 16,
   "id": "f94f7e02-1e95-4839-bc70-220bea9dec70",
   "metadata": {},
   "outputs": [
    {
     "data": {
      "text/html": [
       "<table class=\"dataframe\">\n",
       "<caption>A data.frame: 14 × 2</caption>\n",
       "<thead>\n",
       "\t<tr><th scope=col>Year</th><th scope=col>Proficiency_CEFR</th></tr>\n",
       "\t<tr><th scope=col>&lt;int&gt;</th><th scope=col>&lt;int&gt;</th></tr>\n",
       "</thead>\n",
       "<tbody>\n",
       "\t<tr><td>2011</td><td>551</td></tr>\n",
       "\t<tr><td>2012</td><td>562</td></tr>\n",
       "\t<tr><td>2013</td><td>561</td></tr>\n",
       "\t<tr><td>2014</td><td>578</td></tr>\n",
       "\t<tr><td>2015</td><td>587</td></tr>\n",
       "\t<tr><td>2016</td><td>585</td></tr>\n",
       "\t<tr><td>2017</td><td>592</td></tr>\n",
       "\t<tr><td>2018</td><td>606</td></tr>\n",
       "\t<tr><td>2019</td><td>606</td></tr>\n",
       "\t<tr><td>2020</td><td>616</td></tr>\n",
       "\t<tr><td>2021</td><td>616</td></tr>\n",
       "\t<tr><td>2022</td><td>613</td></tr>\n",
       "\t<tr><td>2023</td><td>604</td></tr>\n",
       "\t<tr><td>2024</td><td>598</td></tr>\n",
       "</tbody>\n",
       "</table>\n"
      ],
      "text/latex": [
       "A data.frame: 14 × 2\n",
       "\\begin{tabular}{ll}\n",
       " Year & Proficiency\\_CEFR\\\\\n",
       " <int> & <int>\\\\\n",
       "\\hline\n",
       "\t 2011 & 551\\\\\n",
       "\t 2012 & 562\\\\\n",
       "\t 2013 & 561\\\\\n",
       "\t 2014 & 578\\\\\n",
       "\t 2015 & 587\\\\\n",
       "\t 2016 & 585\\\\\n",
       "\t 2017 & 592\\\\\n",
       "\t 2018 & 606\\\\\n",
       "\t 2019 & 606\\\\\n",
       "\t 2020 & 616\\\\\n",
       "\t 2021 & 616\\\\\n",
       "\t 2022 & 613\\\\\n",
       "\t 2023 & 604\\\\\n",
       "\t 2024 & 598\\\\\n",
       "\\end{tabular}\n"
      ],
      "text/markdown": [
       "\n",
       "A data.frame: 14 × 2\n",
       "\n",
       "| Year &lt;int&gt; | Proficiency_CEFR &lt;int&gt; |\n",
       "|---|---|\n",
       "| 2011 | 551 |\n",
       "| 2012 | 562 |\n",
       "| 2013 | 561 |\n",
       "| 2014 | 578 |\n",
       "| 2015 | 587 |\n",
       "| 2016 | 585 |\n",
       "| 2017 | 592 |\n",
       "| 2018 | 606 |\n",
       "| 2019 | 606 |\n",
       "| 2020 | 616 |\n",
       "| 2021 | 616 |\n",
       "| 2022 | 613 |\n",
       "| 2023 | 604 |\n",
       "| 2024 | 598 |\n",
       "\n"
      ],
      "text/plain": [
       "   Year Proficiency_CEFR\n",
       "1  2011 551             \n",
       "2  2012 562             \n",
       "3  2013 561             \n",
       "4  2014 578             \n",
       "5  2015 587             \n",
       "6  2016 585             \n",
       "7  2017 592             \n",
       "8  2018 606             \n",
       "9  2019 606             \n",
       "10 2020 616             \n",
       "11 2021 616             \n",
       "12 2022 613             \n",
       "13 2023 604             \n",
       "14 2024 598             "
      ]
     },
     "metadata": {},
     "output_type": "display_data"
    }
   ],
   "source": [
    "read.csv(\"germany_proficiency_2011-2024_CEFR_ef.csv\", sep = \";\")"
   ]
  },
  {
   "cell_type": "code",
   "execution_count": null,
   "id": "29fed45b-93ad-4647-b925-d3135473d561",
   "metadata": {},
   "outputs": [],
   "source": []
  },
  {
   "cell_type": "code",
   "execution_count": null,
   "id": "5ef17bcf-dfff-4f6e-935e-5a761afce537",
   "metadata": {},
   "outputs": [],
   "source": []
  },
  {
   "cell_type": "code",
   "execution_count": null,
   "id": "1ccbf2bb-1aaa-4c69-b001-3947f959a971",
   "metadata": {},
   "outputs": [],
   "source": []
  },
  {
   "cell_type": "code",
   "execution_count": null,
   "id": "598535e2-2451-467f-90dc-c1bf2372fa98",
   "metadata": {},
   "outputs": [],
   "source": []
  },
  {
   "cell_type": "code",
   "execution_count": null,
   "id": "5e4fb39b-d3be-4742-b164-707f48535b95",
   "metadata": {},
   "outputs": [],
   "source": []
  }
 ],
 "metadata": {
  "kernelspec": {
   "display_name": "R",
   "language": "R",
   "name": "ir"
  },
  "language_info": {
   "codemirror_mode": "r",
   "file_extension": ".r",
   "mimetype": "text/x-r-source",
   "name": "R",
   "pygments_lexer": "r",
   "version": "4.4.1"
  }
 },
 "nbformat": 4,
 "nbformat_minor": 5
}
